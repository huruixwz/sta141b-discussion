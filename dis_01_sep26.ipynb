{
 "cells": [
  {
   "cell_type": "markdown",
   "metadata": {},
   "source": [
    "# Discussion 1\n",
    "\n",
    "Hi everyone! Welcome to STA141B discussion! \n",
    "\n",
    "I am Chi Po Choi. Call me Po!\n",
    "\n",
    "cpchoi@ucdavis.edu or in Canvas\n",
    "\n",
    "Office Hour: How about Monday and Tuesday 5:30pm-6:30pm at MSB somewhere?\n"
   ]
  },
  {
   "cell_type": "markdown",
   "metadata": {},
   "source": [
    "\n",
    "# Prof James Sharpnack's book\n",
    "\n",
    "http://anson.ucdavis.edu/~jsharpna/DSBook/\n",
    "\n",
    "## Install Python 3 via Anaconda\n",
    "\n",
    "* Go to https://www.anaconda.com/ and the Download page.\n",
    "* Pick your system (Windows/MacOS/Linux). Download Anaconda with Python 3.6\n",
    "* Try to run some python codes in `python` or `ipython`.\n",
    "* Try Jupyter notebook.\n",
    "\n",
    "## Text editors\n",
    "\n",
    "Pick the one makes most sense to you. Happy coding!\n",
    "* Visual Studio Code https://code.visualstudio.com/\n",
    "* Atom https://atom.io/\n",
    "* Sublime Text https://www.sublimetext.com/\n",
    "* Vim\n",
    "* Emacs\n",
    "\n",
    "## Git\n",
    "\n",
    "* Git is a version-control system to tracking changes in your coding project.\n",
    "* GitHub (https://github.com/) is a source code hosting website. Check out Prof Sharpnack's github repositories https://github.com/jsharpna\n",
    "* Po's github https://github.com/pochoi . May do some demostrations if time allows."
   ]
  },
  {
   "cell_type": "code",
   "execution_count": null,
   "metadata": {},
   "outputs": [],
   "source": []
  },
  {
   "cell_type": "markdown",
   "metadata": {},
   "source": [
    "\n",
    "Visual Studio Code for Python:\n",
    "\n",
    "https://code.visualstudio.com/docs/python/python-tutorial\n",
    "\n",
    "Visual Studio Code for Git or other version-control system\n",
    "\n",
    "https://code.visualstudio.com/docs/editor/versioncontrol\n",
    "\n",
    "\n",
    "\n"
   ]
  },
  {
   "cell_type": "markdown",
   "metadata": {},
   "source": [
    "\n",
    "Git commands showed today (for MacOS/Linux terminal)\n",
    "\n",
    "```\n",
    "cd [... to your code project directory]\n",
    "```\n",
    "\n",
    "```\n",
    "git init\n",
    "```\n",
    "\n",
    "```\n",
    "git add hello.py\n",
    "```\n",
    "\n",
    "```\n",
    "git status\n",
    "```\n",
    "\n",
    "```\n",
    "git commit -m \"some changes on hello.py\"\n",
    "```\n",
    "\n",
    "\n",
    "```\n",
    "git log\n",
    "```"
   ]
  },
  {
   "cell_type": "code",
   "execution_count": null,
   "metadata": {},
   "outputs": [],
   "source": []
  },
  {
   "cell_type": "markdown",
   "metadata": {},
   "source": [
    "\n",
    "You can show equations in Jupyter notebooks:\n",
    "\n",
    "$\\int x^2 dx = \\frac13 x^3 + \\text{constant}$\n",
    "\n",
    "You can show codes in Jupyter notebooks:\n",
    "```python\n",
    "s = ['Hello', 'World']\n",
    "print(' '.join(s))\n",
    "```\n"
   ]
  },
  {
   "cell_type": "code",
   "execution_count": 2,
   "metadata": {},
   "outputs": [
    {
     "name": "stdout",
     "output_type": "stream",
     "text": [
      "Hello World\n"
     ]
    }
   ],
   "source": [
    "# You can run code in Jupyter notebook\n",
    "s = ['Hello', 'World']\n",
    "print(' '.join(s))"
   ]
  },
  {
   "cell_type": "code",
   "execution_count": 3,
   "metadata": {},
   "outputs": [
    {
     "data": {
      "text/plain": [
       "16.0"
      ]
     },
     "execution_count": 3,
     "metadata": {},
     "output_type": "execute_result"
    }
   ],
   "source": [
    "20/5*(2*2)"
   ]
  },
  {
   "cell_type": "code",
   "execution_count": null,
   "metadata": {},
   "outputs": [],
   "source": []
  }
 ],
 "metadata": {
  "kernelspec": {
   "display_name": "Python 3",
   "language": "python",
   "name": "python3"
  },
  "language_info": {
   "codemirror_mode": {
    "name": "ipython",
    "version": 3
   },
   "file_extension": ".py",
   "mimetype": "text/x-python",
   "name": "python",
   "nbconvert_exporter": "python",
   "pygments_lexer": "ipython3",
   "version": "3.4.5"
  }
 },
 "nbformat": 4,
 "nbformat_minor": 2
}
