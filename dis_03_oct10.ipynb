{
  "cells": [
    {
      "metadata": {},
      "cell_type": "markdown",
      "source": "\n# STA141B Discussion 3\n\nChi Po Choi cpchoi@ucdavis.edu\n"
    },
    {
      "metadata": {},
      "cell_type": "markdown",
      "source": "\n# Online Jupyter Notebooks\n\n#### Microsoft Azure Notebooks\n\nhttps://notebooks.azure.com/\n\n#### Google Colaboratory\n\nhttps://colab.research.google.com/\n"
    },
    {
      "metadata": {},
      "cell_type": "markdown",
      "source": "\n# Coding exercises:\n\n- \n  https://projecteuler.net <br>\n  Register an account and solve the problems with Python (or any programming language of your choice, as long as you can solve the problems with it) <br>\n  Problem 19: Counting Sundays\n  https://projecteuler.net/problem=19\n\n- Online Judge for coding problems (actually technical interview preparation...): <br>\n  https://leetcode.com/ <br>\n  https://www.hackerrank.com/ <br>\n  etc......\n"
    },
    {
      "metadata": {
        "slideshow": {
          "slide_type": "subslide"
        }
      },
      "cell_type": "markdown",
      "source": "\n# Ig Nobel Prize 2018\n\nLITERATURE PRIZE [AUSTRALIA, EL SALVADOR, UK] — Thea Blackler, Rafael Gomez, Vesna Popovic and M. Helen Thompson, for documenting that most people who use complicated products do not read the instruction manual.\n\nREFERENCE: \"Life Is Too Short to RTFM: How Users Relate to Documentation and Excess Features in Consumer Products,\" Alethea L. Blackler, Rafael Gomez, Vesna Popovic and M. Helen Thompson, Interacting With Computers, vol. 28, no. 1, 2014, pp. 27-46.\n\nhttps://academic.oup.com/iwc/article/28/1/27/2363584\n\n#### Python Tutorial\n\nhttps://docs.python.org/3/tutorial/\n\n#### Python 3.6 Manual\n\nhttps://docs.python.org/3.6/\n\n#### NumPy User Guide\n\nhttps://docs.scipy.org/doc/numpy-1.15.1/user/index.html#user\n\n#### NumPy Manual\n\nhttps://docs.scipy.org/doc/numpy-1.15.1/reference/\n"
    },
    {
      "metadata": {},
      "cell_type": "markdown",
      "source": "# How to make your Python codes look better\n\n#### Style Guide for Python Code\n\nhttps://www.python.org/dev/peps/pep-0008/\n\nComments: https://www.python.org/dev/peps/pep-0008/#comments\n\nNaming conventions: https://www.python.org/dev/peps/pep-0008/#naming-conventions\n\nMaximum line length: https://www.python.org/dev/peps/pep-0008/#maximum-line-length\n\n#### Docstring Conventions\n\nhttps://www.python.org/dev/peps/pep-0257/\n\n\n#### Example NumPy Style Python Docstrings\n\nhttps://sphinxcontrib-napoleon.readthedocs.io/en/latest/example_numpy.html"
    },
    {
      "metadata": {},
      "cell_type": "markdown",
      "source": "\n# Homework 2\n\n#### Useful functions for NumPy array\n\nhttps://docs.scipy.org/doc/numpy-1.15.1/reference/routines.array-manipulation.html\n\n#### Linear Algebra in NumPy\n\nhttps://docs.scipy.org/doc/numpy-1.15.1/reference/routines.linalg.html\n\n#### FFT in NumPy\n\nhttps://docs.scipy.org/doc/numpy-1.15.1/reference/routines.fft.html\n\n#### Documentation\n\n- Use docstring to provide general descriptions for your functions. What is the purposes of your functions? How to use your functions (a.k.a what are the inputs and outputs exactly)?\n\n- Use comments when it helps to understand your codes. On the other hands, concise and self-explanatory codes are better than lengthly comments. <br>\n  There are some good guidelines in the below tutorial: <br>\n  https://www.digitalocean.com/community/tutorials/how-to-write-comments-in-python-3\n\n\n"
    },
    {
      "metadata": {},
      "cell_type": "markdown",
      "source": ""
    },
    {
      "metadata": {},
      "cell_type": "markdown",
      "source": "\n#### NumPy SVD\n\nhttps://docs.scipy.org/doc/numpy-1.15.1/reference/generated/numpy.linalg.svd.html#numpy.linalg.svd\n\n"
    },
    {
      "metadata": {},
      "cell_type": "markdown",
      "source": "Math behind the scenes\n\nhttps://en.wikipedia.org/wiki/Singular_value_decomposition#Low-rank_matrix_approximation\n\n"
    },
    {
      "metadata": {
        "trusted": true
      },
      "cell_type": "code",
      "source": "import numpy as np\nnp.set_printoptions(precision=2, sign = ' ', suppress=True) # Better display format for lecture",
      "execution_count": 10,
      "outputs": []
    },
    {
      "metadata": {
        "trusted": true
      },
      "cell_type": "code",
      "source": "x = np.array(\n    [[0.0, 0.0, 1.0, 1.0],\n     [0.0, 1.0, 1.0, 1.0],\n     [1.0, 2.0, 2.0, 0.0],\n     [0.0, 1.0, 1.0, 0.0],\n     [0.0, 1.0, 0.0, 0.0]]\n)\n\nu, d, vt = np.linalg.svd(x)\nprint(\"u\")\nprint(u)\nprint(\"d\")\nprint(d)\nprint(\"v^T\")\nprint(vt)",
      "execution_count": 11,
      "outputs": [
        {
          "output_type": "stream",
          "text": "u\n[[-0.23 -0.75 -0.22  0.01  0.58]\n [-0.41 -0.47  0.51 -0.16 -0.58]\n [-0.78  0.35 -0.41 -0.31  0.  ]\n [-0.36  0.1   0.09  0.92  0.  ]\n [-0.18  0.29  0.72 -0.17  0.58]]\nd\n[ 3.74  1.47  0.83  0.38]\nv^T\n[[-0.21 -0.67 -0.69 -0.17]\n [ 0.24  0.42 -0.28 -0.83]\n [-0.49  0.6  -0.53  0.35]\n [-0.81 -0.06  0.41 -0.41]]\n",
          "name": "stdout"
        }
      ]
    },
    {
      "metadata": {},
      "cell_type": "markdown",
      "source": "$\\ X = UDV^T = d_1 u_1 v_1^T + \\ldots + d_m u_m v_m^T\\ $"
    },
    {
      "metadata": {
        "trusted": true
      },
      "cell_type": "code",
      "source": "w1 = d[0]*np.matmul(u[:,0:1], vt[0:1,:])\nw2 = d[1]*np.matmul(u[:,1:2], vt[1:2,:])\nw3 = d[2]*np.matmul(u[:,2:3], vt[2:3,:])\nw4 = d[3]*np.matmul(u[:,3:4], vt[3:4,:])",
      "execution_count": 12,
      "outputs": []
    },
    {
      "metadata": {
        "trusted": true
      },
      "cell_type": "code",
      "source": "print(w1+w2+w3+w4)",
      "execution_count": 13,
      "outputs": [
        {
          "output_type": "stream",
          "text": "[[ 0. -0.  1.  1.]\n [ 0.  1.  1.  1.]\n [ 1.  2.  2. -0.]\n [ 0.  1.  1.  0.]\n [ 0.  1.  0.  0.]]\n",
          "name": "stdout"
        }
      ]
    },
    {
      "metadata": {
        "trusted": true
      },
      "cell_type": "code",
      "source": "print(w1+w2+w3)",
      "execution_count": 14,
      "outputs": [
        {
          "output_type": "stream",
          "text": "[[ 0.    0.    1.    1.  ]\n [-0.05  1.    1.03  0.97]\n [ 0.91  1.99  2.05 -0.05]\n [ 0.28  1.02  0.86  0.14]\n [-0.05  1.    0.03 -0.03]]\n",
          "name": "stdout"
        }
      ]
    },
    {
      "metadata": {
        "trusted": true
      },
      "cell_type": "code",
      "source": "np.linalg.norm((w1+w2+w3) - x)",
      "execution_count": 15,
      "outputs": [
        {
          "output_type": "execute_result",
          "execution_count": 15,
          "data": {
            "text/plain": "0.3772518430252185"
          },
          "metadata": {}
        }
      ]
    },
    {
      "metadata": {
        "trusted": true
      },
      "cell_type": "code",
      "source": "print(w1+w2)",
      "execution_count": 16,
      "outputs": [
        {
          "output_type": "stream",
          "text": "[[-0.09  0.11  0.9   1.06]\n [ 0.16  0.74  1.25  0.83]\n [ 0.74  2.2   1.87  0.07]\n [ 0.32  0.98  0.9   0.12]\n [ 0.24  0.63  0.34 -0.23]]\n",
          "name": "stdout"
        }
      ]
    },
    {
      "metadata": {
        "trusted": true
      },
      "cell_type": "code",
      "source": "np.linalg.norm((w1+w2) - x)",
      "execution_count": 17,
      "outputs": [
        {
          "output_type": "execute_result",
          "execution_count": 17,
          "data": {
            "text/plain": "0.914322401817276"
          },
          "metadata": {}
        }
      ]
    },
    {
      "metadata": {
        "trusted": true
      },
      "cell_type": "code",
      "source": "D = np.pad(np.diag(d), [(0, 1), (0,0)], mode='constant')\nprint(D)",
      "execution_count": 22,
      "outputs": [
        {
          "output_type": "stream",
          "text": "[[ 3.74  0.    0.    0.  ]\n [ 0.    1.47  0.    0.  ]\n [ 0.    0.    0.83  0.  ]\n [ 0.    0.    0.    0.38]\n [ 0.    0.    0.    0.  ]]\n",
          "name": "stdout"
        }
      ]
    },
    {
      "metadata": {
        "trusted": true
      },
      "cell_type": "code",
      "source": "np.matmul(np.matmul(u, D), vt)",
      "execution_count": 28,
      "outputs": [
        {
          "output_type": "execute_result",
          "execution_count": 28,
          "data": {
            "text/plain": "array([[ 0., -0.,  1.,  1.],\n       [ 0.,  1.,  1.,  1.],\n       [ 1.,  2.,  2., -0.],\n       [ 0.,  1.,  1.,  0.],\n       [-0.,  1.,  0.,  0.]])"
          },
          "metadata": {}
        }
      ]
    },
    {
      "metadata": {
        "trusted": true
      },
      "cell_type": "code",
      "source": "u @ D @ vt",
      "execution_count": 29,
      "outputs": [
        {
          "output_type": "execute_result",
          "execution_count": 29,
          "data": {
            "text/plain": "array([[ 0., -0.,  1.,  1.],\n       [ 0.,  1.,  1.,  1.],\n       [ 1.,  2.,  2., -0.],\n       [ 0.,  1.,  1.,  0.],\n       [-0.,  1.,  0.,  0.]])"
          },
          "metadata": {}
        }
      ]
    },
    {
      "metadata": {
        "trusted": true
      },
      "cell_type": "code",
      "source": "",
      "execution_count": null,
      "outputs": []
    },
    {
      "metadata": {},
      "cell_type": "markdown",
      "source": "\nFFT in NumPy\nhttps://docs.scipy.org/doc/numpy-1.15.1/reference/routines.fft.html"
    },
    {
      "metadata": {
        "trusted": true
      },
      "cell_type": "code",
      "source": "x = np.array(\n    [[0.0, 0.0, 1.0, 1.0],\n     [0.0, 1.0, 1.0, 1.0],\n     [1.0, 2.0, 2.0, 0.0],\n     [0.0, 1.0, 1.0, 0.0],\n     [0.0, 1.0, 0.0, 0.0],\n     [0.0, 1.0, 0.0, 0.0]]\n)\n\nx_coef = np.fft.rfft2(x)\nprint(x_coef)",
      "execution_count": 245,
      "outputs": [
        {
          "output_type": "stream",
          "text": "[[14.  +0.j   -4.  -4.j   -2.  +0.j  ]\n [-1.  -5.2j   0.  +4.73j -1.  -1.73j]\n [-1.  +1.73j  0.73+2.j    1.  +1.73j]\n [ 2.  +0.j    0.  -0.j    2.  +0.j  ]\n [-1.  -1.73j -2.73+2.j    1.  -1.73j]\n [-1.  +5.2j   0.  +1.27j -1.  +1.73j]]\n",
          "name": "stdout"
        }
      ]
    },
    {
      "metadata": {
        "trusted": true
      },
      "cell_type": "code",
      "source": "x_back = np.fft.irfft2(x_coef, x.shape)\nprint(x_back)",
      "execution_count": 270,
      "outputs": [
        {
          "output_type": "stream",
          "text": "[[ 0.  0.  1.  1.]\n [ 0.  1.  1.  1.]\n [ 1.  2.  2.  0.]\n [ 0.  1.  1.  0.]\n [ 0.  1.  0.  0.]\n [-0.  1.  0.  0.]]\n",
          "name": "stdout"
        }
      ]
    },
    {
      "metadata": {
        "trusted": true
      },
      "cell_type": "code",
      "source": "x_coef_test1 = x_coef.copy()\nx_coef_test1[:,2] = 0.0\nx_test1 = np.fft.irfft2(x_coef_test1, x.shape)\nprint(\"x_coef_test1\")\nprint(x_coef_test1)\nprint(\"x_test1\")\nprint(x_test1)",
      "execution_count": 248,
      "outputs": [
        {
          "output_type": "stream",
          "text": "x_coef_test1\n[[14.  +0.j   -4.  -4.j    0.  +0.j  ]\n [-1.  -5.2j   0.  +4.73j  0.  +0.j  ]\n [-1.  +1.73j  0.73+2.j    0.  +0.j  ]\n [ 2.  +0.j    0.  -0.j    0.  +0.j  ]\n [-1.  -1.73j -2.73+2.j    0.  +0.j  ]\n [-1.  +5.2j   0.  +1.27j  0.  +0.j  ]]\nx_test1\n[[ 0.    0.    1.    1.  ]\n [ 0.25  0.75  1.25  0.75]\n [ 0.75  2.25  1.75  0.25]\n [ 0.    1.    1.    0.  ]\n [ 0.25  0.75  0.25 -0.25]\n [ 0.25  0.75  0.25 -0.25]]\n",
          "name": "stdout"
        }
      ]
    },
    {
      "metadata": {
        "trusted": true
      },
      "cell_type": "code",
      "source": "x_coef_test2 = x_coef.copy()\nx_coef_test2[:,2] = 0.0\nx_coef_test2[3,:] = 0.0\nx_test2 = np.fft.irfft2(x_coef_test2, x.shape)\nprint(\"x_coef_test2\")\nprint(x_coef_test2)\nprint(\"x_test2\")\nprint(x_test2)",
      "execution_count": 249,
      "outputs": [
        {
          "output_type": "stream",
          "text": "x_coef_test2\n[[14.  +0.j   -4.  -4.j    0.  +0.j  ]\n [-1.  -5.2j   0.  +4.73j  0.  +0.j  ]\n [-1.  +1.73j  0.73+2.j    0.  +0.j  ]\n [ 0.  +0.j    0.  +0.j    0.  +0.j  ]\n [-1.  -1.73j -2.73+2.j    0.  +0.j  ]\n [-1.  +5.2j   0.  +1.27j  0.  +0.j  ]]\nx_test2\n[[-0.08 -0.08  0.92  0.92]\n [ 0.33  0.83  1.33  0.83]\n [ 0.67  2.17  1.67  0.17]\n [ 0.08  1.08  1.08  0.08]\n [ 0.17  0.67  0.17 -0.33]\n [ 0.33  0.83  0.33 -0.17]]\n",
          "name": "stdout"
        }
      ]
    },
    {
      "metadata": {},
      "cell_type": "markdown",
      "source": "Math behind the scenes\n\nhttps://en.wikipedia.org/wiki/Discrete_Fourier_transform\n"
    },
    {
      "metadata": {
        "trusted": true
      },
      "cell_type": "code",
      "source": "",
      "execution_count": null,
      "outputs": []
    }
  ],
  "metadata": {
    "kernelspec": {
      "name": "python36",
      "display_name": "Python 3.6",
      "language": "python"
    },
    "language_info": {
      "mimetype": "text/x-python",
      "nbconvert_exporter": "python",
      "name": "python",
      "pygments_lexer": "ipython3",
      "version": "3.6.6",
      "file_extension": ".py",
      "codemirror_mode": {
        "version": 3,
        "name": "ipython"
      }
    }
  },
  "nbformat": 4,
  "nbformat_minor": 1
}