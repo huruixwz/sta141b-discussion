{
  "nbformat": 4,
  "nbformat_minor": 0,
  "metadata": {
    "colab": {
      "name": "dis2.ipynb",
      "version": "0.3.2",
      "provenance": [],
      "collapsed_sections": []
    },
    "kernelspec": {
      "name": "python3",
      "display_name": "Python 3"
    }
  },
  "cells": [
    {
      "metadata": {
        "id": "PUezSzrlpHDq",
        "colab_type": "text"
      },
      "cell_type": "markdown",
      "source": [
        "# Homework 1\n",
        "\n",
        "Python Tutorial\n",
        "\n",
        "https://docs.python.org/3/tutorial/index.html\n",
        "\n",
        "Example NumPy Style Python Docstrings\n",
        "\n",
        "https://sphinxcontrib-napoleon.readthedocs.io/en/latest/example_numpy.html#example-numpy\n",
        "\n",
        "\n",
        "## Part 1\n",
        "You will implement the Doomsday algorithm in Python.\n",
        "\n",
        "https://en.wikipedia.org/wiki/Doomsday_rule\n",
        "\n",
        "https://en.wikipedia.org/wiki/Leap_year\n",
        "\n",
        "https://en.wikipedia.org/wiki/Modulo_operation\n",
        "\n",
        "https://docs.python.org/3.6/reference/expressions.html#binary-arithmetic-operations\n",
        "\n",
        "## Part 2\n",
        "\n",
        "Reading and writing files\n",
        "\n",
        "https://docs.python.org/3.6/tutorial/inputoutput.html#reading-and-writing-files\n",
        "\n",
        "Usage of `split` and  `strip` in:\n",
        "\n",
        "https://docs.python.org/3.6/library/stdtypes.html#string-methods\n",
        "\n",
        "Usage of `Counters` object in `collections` module\n",
        "\n",
        "https://docs.python.org/3.6/library/collections.html\n",
        "\n"
      ]
    },
    {
      "metadata": {
        "id": "aTe3GVZZrXPS",
        "colab_type": "text"
      },
      "cell_type": "markdown",
      "source": [
        "# Git\n",
        "\n",
        "## Setup for a freshly-installed git on your laptop\n",
        "\n",
        "https://help.github.com/articles/set-up-git/\n",
        "\n",
        "Print user name in your git in your laptop\n",
        "```\n",
        "$ git config --global user.name\n",
        "```\n",
        "\n",
        "If it is not your prefered name, set user name\n",
        "```\n",
        "$ git config --global user.name \"Master Shifu\"\n",
        "```\n",
        "\n",
        "\n",
        "Print user email address in your git in your laptop\n",
        "```\n",
        "$ git config --global user.email\n",
        "```\n",
        "\n",
        "If it is not your prefered email address, set email address as\n",
        "```\n",
        "$ git config --global user.email \"shifu@jadepalace.edu\"\n",
        "```\n",
        "\n",
        "\n",
        "## Clone a github repository\n",
        "\n",
        "Clone a github repository, for example, https://github.com/jsharpna/141Blectures\n",
        "```\n",
        "$ git clone https://github.com/jsharpna/141Blectures.git\n",
        "```\n",
        "\n",
        "A folder named \"141Blectures\" is created. Get inside and read some recents commits.\n",
        "```\n",
        "$ cd 141Blectures\n",
        "$ git log\n",
        "```\n",
        "\n",
        "\n",
        "\n"
      ]
    }
  ]
}