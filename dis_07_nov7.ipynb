{
 "cells": [
  {
   "cell_type": "markdown",
   "metadata": {},
   "source": [
    "# Discussion Nov7"
   ]
  },
  {
   "cell_type": "markdown",
   "metadata": {},
   "source": [
    "\n",
    "# Jupyter notebook on the cloud\n",
    "\n",
    "### Google Colab\n",
    "<a href=\"https://colab.research.google.com/github/pochoi/sta141b-discussion/blob/master/dis_07_nov7.ipynb\">\n",
    "  <img  style=\"float: left;\" src=\"https://colab.research.google.com/assets/colab-badge.svg\" alt=\"Open In Colab\"/>\n",
    "</a> <br> ↑ open this jupyter notebook in Google Colab\n",
    "<br>\n",
    "https://colab.research.google.com/github/\n",
    "\n",
    "You can open the jupyter notebooks of the lecture notes like this: <br>\n",
    "https://colab.research.google.com/github/jsharpna/141Blectures/blob/master/lecture17/lecture17.ipynb <br>\n",
    "Some packages are default in google colab, but some are not, thus you may need to install it on the way.\n",
    "```\n",
    "!pip install plotnine\n",
    "!pip install -U scikit-learn\n",
    "```\n",
    "\n",
    "### Binder\n",
    "<a href=\"https://mybinder.org/v2/gh/pochoi/sta141b-discussion/master\">\n",
    "  <img  style=\"float: left;\" src=\"https://mybinder.org/badge.svg\" alt=\"Binder\"/>\n",
    "</a> <br> ↑ open this discussion github repo in Binder\n",
    "<br> \n",
    "https://mybinder.org <br>\n",
    "Binder provides you a standalone jupyter server. It may take a few minites to initialize.<br>\n",
    "\n",
    "You can open the jupyter notebooks of the lecture notes like this: <br>\n",
    "https://mybinder.org/v2/gh/jsharpna/141Blectures/master <br>\n",
    "Since the lecture note github repo haven't been configurated for Binder , some packages are not available by default, so you need to install it on the way.\n",
    "\n",
    "For this discussion github repos here, I made some configurations for Binder, so those packages like sklearn and plotnine are available by default here ;). You can try them.\n",
    "\n",
    "You can even run R with jupyter or with rstudio! https://github.com/binder-examples/binder-r-description\n",
    "\n",
    "### Microsoft Azure Notebook\n",
    "https://notebooks.azure.com/ <br>\n",
    "\n"
   ]
  },
  {
   "cell_type": "markdown",
   "metadata": {},
   "source": [
    "\n",
    "# GitHub Repository\n",
    "\n",
    "(Not sure whether it is a must for your project...)\n",
    "\n",
    "https://education.github.com/pack <br>\n",
    "Get the student offer. You can have private repos for free if you are student. And some free stuff.\n",
    "\n",
    "You can add your teammates as Collaborators in the settings tab. Then your teammates can edit the repo.\n",
    "\n",
    "You can create a branch to do some developments first, and then merge it to master branch when things look good. It is a way to avoid file conflicts when you and your teammates work on the repo at the same time.\n",
    "\n",
    "You can make some markdown notes in the wiki tab.\n",
    "\n",
    "GitHub allows you to edit and upload files in your github repos online (i.e. you only need to click click click in your browser). It takes care of the git commands for you and works like a shared folder. (But then why not just use google drive or box?!)\n",
    "\n",
    "I know there is a learning curve on using git, but you should learn to use git to do version control, using command lines or using Atom or Visual Studio Code.\n"
   ]
  },
  {
   "cell_type": "code",
   "execution_count": null,
   "metadata": {},
   "outputs": [],
   "source": []
  },
  {
   "cell_type": "markdown",
   "metadata": {},
   "source": [
    "# Last year instruction\n",
    "\n",
    "**STA-141b Final Project instructions**\n",
    "\n",
    "**Description:** You should work in a group of no more than 4 people on a final data science project. The purpose of the project is to provide you with real data science experience, including posing questions, finding data, exploring and visualizing the data, analyzing the data, and summarizing your findings. As a group you should begin with a certain curiosity, for example, in my lecture 'What happened in Ohio?' I looked at the presidential election in OH. Then we processed the data, visualized it, and asked specific questions.\n",
    "\n",
    "**Data Sources:** Based on what you have learned you can extract data from pretty much anywhere, but for inspiration you can look at the following links:\n",
    "\n",
    "- [This big list of datasets](https://github.com/awesomedata/awesome-public-datasets)\n",
    "\n",
    "- [Data.gov](http://data.gov)\n",
    "\n",
    "- The internet\n",
    "\n",
    "**Grading criteria**\n",
    "\n",
    "- Code: we will grade the code according to the rubric\n",
    "\n",
    "- Exploratory data analysis: Did you explore the data before moving on with your analysis? Looking at the data can mean summary statistics, dealing with missingness, visualization, etc.\n",
    "\n",
    "- Question and summaries: Are there clear research questions that you asked, and did you address these in an orderly fashion? Do you make well justified conclusions?\n",
    "\n",
    "- Statistics: is your use of statistics and machine learning valid? Did you choose appropriate methods based on your questions, the data, and your assumptions?\n",
    "\n",
    "- Visualization: do your visualizations follow the principles of graphical excellence? Do your visualizations support your conclusions?\n",
    "\n",
    "- Data extraction: does your project display novel ways of extracting data (via web scrapping, etc.) and do you use multiple data sources?\n",
    "\n",
    "- Data munging and storage: do you process the data in an clear, efficient, and organized way? Do you join multiple data sources appropriately? Do you store your processed data in an efficient way, using databases or well thought out data structures?\n",
    "\n",
    "- Organization: Is your github repo organized? Are your notebooks clear, with a natural flow, and easy to follow presentation? Is your writing clear and edited?\n",
    "\n",
    "We will grade each of these according to a scale, with the highest grades going to only the best examples of these categories. Then we will drop the lowest 2 of these scores, so that we will promote excellence without necessarily requiring that the you hit all of these bases. We will also add grades to smaller groups, and penalize larger groups. You should roughly have material proportional to the number of people in your group."
   ]
  },
  {
   "cell_type": "code",
   "execution_count": null,
   "metadata": {},
   "outputs": [],
   "source": []
  }
 ],
 "metadata": {
  "kernelspec": {
   "display_name": "Python 3",
   "language": "python",
   "name": "python3"
  },
  "language_info": {
   "codemirror_mode": {
    "name": "ipython",
    "version": 3
   },
   "file_extension": ".py",
   "mimetype": "text/x-python",
   "name": "python",
   "nbconvert_exporter": "python",
   "pygments_lexer": "ipython3",
   "version": "3.6.6"
  }
 },
 "nbformat": 4,
 "nbformat_minor": 2
}
