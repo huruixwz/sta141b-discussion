{
  "cells": [
    {
      "metadata": {},
      "cell_type": "markdown",
      "source": "# Dostring vs Comments"
    },
    {
      "metadata": {
        "trusted": true
      },
      "cell_type": "code",
      "source": "def plus(x, y):\n    \"\"\"Compute the sum of two numbers\n\n    Parameters\n    ----------\n    x : int\n        The first number\n    y : int\n        The second number.\n\n    Returns\n    -------\n    number\n        The sum of x and y\n    \"\"\"\n    return x + y",
      "execution_count": 3,
      "outputs": []
    },
    {
      "metadata": {
        "trusted": true
      },
      "cell_type": "code",
      "source": "?plus",
      "execution_count": 7,
      "outputs": []
    },
    {
      "metadata": {
        "trusted": true
      },
      "cell_type": "code",
      "source": "def minus(x, y):\n    #Compute the sume of two numbers\n    #\n    #Parameters\n    #----------\n    #x : int\n    #    The first number\n    #y : int\n    #    The second number.\n    #\n    #Returns\n    #-------\n    #number\n    #    The sum of x and y\n    return x - y",
      "execution_count": 5,
      "outputs": []
    },
    {
      "metadata": {
        "trusted": true
      },
      "cell_type": "code",
      "source": "?minus",
      "execution_count": 6,
      "outputs": []
    },
    {
      "metadata": {
        "trusted": true
      },
      "cell_type": "code",
      "source": "# whatsup",
      "execution_count": 13,
      "outputs": []
    },
    {
      "metadata": {
        "trusted": true
      },
      "cell_type": "code",
      "source": "\"\"\"Should I do this?\"\"\"\n\"whats up\"\n",
      "execution_count": 12,
      "outputs": [
        {
          "output_type": "execute_result",
          "execution_count": 12,
          "data": {
            "text/plain": "'whats up'"
          },
          "metadata": {}
        }
      ]
    },
    {
      "metadata": {
        "trusted": true
      },
      "cell_type": "code",
      "source": "hi",
      "execution_count": 11,
      "outputs": [
        {
          "output_type": "execute_result",
          "execution_count": 11,
          "data": {
            "text/plain": "'Should I do this?'"
          },
          "metadata": {}
        }
      ]
    },
    {
      "metadata": {
        "trusted": true
      },
      "cell_type": "code",
      "source": "# Or should I do this?\n1+2",
      "execution_count": 9,
      "outputs": [
        {
          "output_type": "execute_result",
          "execution_count": 9,
          "data": {
            "text/plain": "3"
          },
          "metadata": {}
        }
      ]
    },
    {
      "metadata": {
        "trusted": true
      },
      "cell_type": "code",
      "source": "1+4 \"\"\"equals 5\"\"\"",
      "execution_count": 15,
      "outputs": [
        {
          "output_type": "error",
          "ename": "SyntaxError",
          "evalue": "invalid syntax (<ipython-input-15-467a85483d27>, line 1)",
          "traceback": [
            "\u001b[0;36m  File \u001b[0;32m\"<ipython-input-15-467a85483d27>\"\u001b[0;36m, line \u001b[0;32m1\u001b[0m\n\u001b[0;31m    1+4 \"\"\"equals 5\"\"\"\u001b[0m\n\u001b[0m                     ^\u001b[0m\n\u001b[0;31mSyntaxError\u001b[0m\u001b[0;31m:\u001b[0m invalid syntax\n"
          ]
        }
      ]
    },
    {
      "metadata": {
        "trusted": true
      },
      "cell_type": "code",
      "source": "1+5 # equals 6",
      "execution_count": 14,
      "outputs": [
        {
          "output_type": "execute_result",
          "execution_count": 14,
          "data": {
            "text/plain": "6"
          },
          "metadata": {}
        }
      ]
    },
    {
      "metadata": {
        "trusted": true
      },
      "cell_type": "code",
      "source": "def plus_minus(x, y):\n    \"\"\"Compute sum and difference.\"\"\"\n    return x+y, x-y\n\ndef inverse_plus_minus(a, b):\n    \"\"\"Inverse of plus_minus\"\"\"\n    return (a+b)//2, (a-b)//2",
      "execution_count": 16,
      "outputs": []
    },
    {
      "metadata": {},
      "cell_type": "markdown",
      "source": "# What is the difference?"
    },
    {
      "metadata": {},
      "cell_type": "markdown",
      "source": "plus_minus is called only once below."
    },
    {
      "metadata": {
        "trusted": true
      },
      "cell_type": "code",
      "source": "x, y = 2, 3\n\na, b = plus_minus(x, y)\nx1, y1 = inverse_plus_minus(a, b)",
      "execution_count": 30,
      "outputs": []
    },
    {
      "metadata": {
        "trusted": true
      },
      "cell_type": "code",
      "source": "x, y",
      "execution_count": 31,
      "outputs": [
        {
          "output_type": "execute_result",
          "execution_count": 31,
          "data": {
            "text/plain": "(2, 3)"
          },
          "metadata": {}
        }
      ]
    },
    {
      "metadata": {
        "trusted": true
      },
      "cell_type": "code",
      "source": "a, b",
      "execution_count": 32,
      "outputs": [
        {
          "output_type": "execute_result",
          "execution_count": 32,
          "data": {
            "text/plain": "(5, -1)"
          },
          "metadata": {}
        }
      ]
    },
    {
      "metadata": {
        "trusted": true
      },
      "cell_type": "code",
      "source": "x1, y1",
      "execution_count": 33,
      "outputs": [
        {
          "output_type": "execute_result",
          "execution_count": 33,
          "data": {
            "text/plain": "(2, 3)"
          },
          "metadata": {}
        }
      ]
    },
    {
      "metadata": {
        "trusted": true
      },
      "cell_type": "code",
      "source": "x == x1, y == y1",
      "execution_count": 34,
      "outputs": [
        {
          "output_type": "execute_result",
          "execution_count": 34,
          "data": {
            "text/plain": "(True, True)"
          },
          "metadata": {}
        }
      ]
    },
    {
      "metadata": {},
      "cell_type": "markdown",
      "source": "plus_minus is called twice below. <br>\nWhen computation is light, it doesn't matter if you call it twice. <br>\nBut, if you are working on a big dataset, don't run same thing twice. <br>"
    },
    {
      "metadata": {
        "trusted": true
      },
      "cell_type": "code",
      "source": "x, y = 2, 3\n\nx1, y1 = inverse_plus_minus(plus_minus(x, y)[0], plus_minus(x, y)[1])",
      "execution_count": 35,
      "outputs": []
    },
    {
      "metadata": {
        "trusted": true
      },
      "cell_type": "code",
      "source": "x, y",
      "execution_count": 23,
      "outputs": [
        {
          "output_type": "execute_result",
          "execution_count": 23,
          "data": {
            "text/plain": "(2, 3)"
          },
          "metadata": {}
        }
      ]
    },
    {
      "metadata": {
        "trusted": true
      },
      "cell_type": "code",
      "source": "x1, y1",
      "execution_count": 24,
      "outputs": [
        {
          "output_type": "execute_result",
          "execution_count": 24,
          "data": {
            "text/plain": "(2, 3)"
          },
          "metadata": {}
        }
      ]
    },
    {
      "metadata": {
        "trusted": true
      },
      "cell_type": "code",
      "source": "x == x1, y == y1",
      "execution_count": 22,
      "outputs": [
        {
          "output_type": "execute_result",
          "execution_count": 22,
          "data": {
            "text/plain": "(True, True)"
          },
          "metadata": {}
        }
      ]
    },
    {
      "metadata": {
        "trusted": true
      },
      "cell_type": "code",
      "source": "",
      "execution_count": null,
      "outputs": []
    },
    {
      "metadata": {},
      "cell_type": "markdown",
      "source": "# What is wrong?"
    },
    {
      "metadata": {
        "trusted": true
      },
      "cell_type": "code",
      "source": "from PIL import Image\nfrom IPython.display import Image",
      "execution_count": 40,
      "outputs": []
    },
    {
      "metadata": {
        "trusted": true
      },
      "cell_type": "code",
      "source": "from PIL import Image\nfrom IPython.display import Image as IPImage",
      "execution_count": 41,
      "outputs": []
    },
    {
      "metadata": {
        "trusted": true
      },
      "cell_type": "code",
      "source": "",
      "execution_count": null,
      "outputs": []
    },
    {
      "metadata": {
        "trusted": true
      },
      "cell_type": "code",
      "source": "print(\"I love {}.\".format(lang))",
      "execution_count": 42,
      "outputs": [
        {
          "output_type": "error",
          "ename": "NameError",
          "evalue": "name 'lang' is not defined",
          "traceback": [
            "\u001b[0;31m---------------------------------------------------------------------------\u001b[0m",
            "\u001b[0;31mNameError\u001b[0m                                 Traceback (most recent call last)",
            "\u001b[0;32m<ipython-input-42-7ce8f633e478>\u001b[0m in \u001b[0;36m<module>\u001b[0;34m()\u001b[0m\n\u001b[0;32m----> 1\u001b[0;31m \u001b[0mprint\u001b[0m\u001b[0;34m(\u001b[0m\u001b[0;34m\"I love {}.\"\u001b[0m\u001b[0;34m.\u001b[0m\u001b[0mformat\u001b[0m\u001b[0;34m(\u001b[0m\u001b[0mlang\u001b[0m\u001b[0;34m)\u001b[0m\u001b[0;34m)\u001b[0m\u001b[0;34m\u001b[0m\u001b[0m\n\u001b[0m",
            "\u001b[0;31mNameError\u001b[0m: name 'lang' is not defined"
          ]
        }
      ]
    },
    {
      "metadata": {
        "trusted": true
      },
      "cell_type": "code",
      "source": "lang = \"Python\"",
      "execution_count": 43,
      "outputs": []
    },
    {
      "metadata": {},
      "cell_type": "markdown",
      "source": "Make sure you have all variable defined before using it in latter cells.\n\nKernel -> Restart & Run all"
    },
    {
      "metadata": {
        "trusted": true
      },
      "cell_type": "code",
      "source": "lang = \"Python\"\nprint(\"I love {}.\".format(lang))",
      "execution_count": 44,
      "outputs": [
        {
          "output_type": "stream",
          "text": "I love Python.\n",
          "name": "stdout"
        }
      ]
    },
    {
      "metadata": {
        "trusted": true
      },
      "cell_type": "code",
      "source": "",
      "execution_count": null,
      "outputs": []
    },
    {
      "metadata": {},
      "cell_type": "markdown",
      "source": "Name your functions and variables properly! Don't do function1, function2, etc..."
    },
    {
      "metadata": {
        "trusted": true
      },
      "cell_type": "code",
      "source": "def function1(x, y):\n    \"\"\"Compute sum and difference.\"\"\"\n    return x+y, x-y\n\ndef function2(a, b):\n    \"\"\"Inverse of plus_minus\"\"\"\n    return (a+b)//2, (a-b)//2",
      "execution_count": null,
      "outputs": []
    },
    {
      "metadata": {
        "trusted": true
      },
      "cell_type": "code",
      "source": "",
      "execution_count": null,
      "outputs": []
    },
    {
      "metadata": {},
      "cell_type": "markdown",
      "source": "# Git\n\n## Setup for a freshly-installed git on your laptop\n\nhttps://help.github.com/articles/set-up-git/\n\nPrint user name in your git in your laptop\n```\n$ git config --global user.name\n```\n\nIf it is not your prefered name, set user name\n```\n$ git config --global user.name \"Master Shifu\"\n```\n\n\nPrint user email address in your git in your laptop\n```\n$ git config --global user.email\n```\n\nIf it is not your prefered email address, set email address as\n```\n$ git config --global user.email \"shifu@jadepalace.edu\"\n```\n\n\n## Clone a github repository\n\nClone a github repository, for example, https://github.com/jsharpna/141Blectures\n```\n$ git clone https://github.com/jsharpna/141Blectures.git\n```\n\nA folder named \"141Blectures\" is created. Get inside and read some recents commits.\n```\n$ cd 141Blectures\n$ git log\n```\n\nCheck the url of remote repository \n```\n$ git remote -v\n```\n\nUpdate the local git repo (sync to the remote repo)\n```\n$ git pull origin master\n```\n\n\n## Fork a github repository\n\nLog in your github account.\n\nClick the button \"Fork\" at https://github.com/jsharpna/141Blectures\n\n```\n$ git clone https://github.com/[your github account]/141Blectures.git\n$ cd 141Blectures\n$ git log\n```\n\nCheck the url of remote repository \n```\n$ git remote -v\n```\n\nAdd James's repository url\n```\n$ git remote add upstream https://github.com/jsharpna/141Blectures.git\n$ git remote -v\n```\n\nWhat is the different?\n```\n$ git pull origin master\n```\n\nand\n\n```\n$ git pull upstream master\n```\n\n## Create a branch in your local git repo (and switch into the new branch)\n```\n$ git checkout -b typos\n```\n\nSwitch back to branch master\n```\n$ git checkout master\n```\n\nSwitch to branch typos\n```\n$ git checkout typos\n```\n\nEdit `README.md` and then stage the change\n```\n$ git status\n$ git add README.md\n```\n\nCommit the change\n```\n$ git commit -m \"correct typos\"\n```\n\nCheck if some work is not commited\n```\n$ git status\n```\n\nWhen every thing is committed, you can switch back to branch master. You can see master branch stay the same!\n```\n$ git checkout master\n```\n\nYou can upload the branch typos to your github\n```\n$ git push origin typos\n```\n\n\nSome basics for git and branch \n\nhttps://git-scm.com/book/en/v2/Git-Branching-Basic-Branching-and-Merging\n\nhttps://git-scm.com/book/en/v1/Git-Tools-Stashing\n"
    },
    {
      "metadata": {
        "trusted": true
      },
      "cell_type": "code",
      "source": "",
      "execution_count": null,
      "outputs": []
    },
    {
      "metadata": {
        "trusted": true
      },
      "cell_type": "code",
      "source": "",
      "execution_count": null,
      "outputs": []
    }
  ],
  "metadata": {
    "kernelspec": {
      "name": "python36",
      "display_name": "Python 3.6",
      "language": "python"
    },
    "language_info": {
      "mimetype": "text/x-python",
      "nbconvert_exporter": "python",
      "name": "python",
      "pygments_lexer": "ipython3",
      "version": "3.6.6",
      "file_extension": ".py",
      "codemirror_mode": {
        "version": 3,
        "name": "ipython"
      }
    }
  },
  "nbformat": 4,
  "nbformat_minor": 1
}