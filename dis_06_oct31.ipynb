{
 "cells": [
  {
   "cell_type": "markdown",
   "metadata": {},
   "source": [
    "![Halloween](http://www.phdcomics.com/comics/archive/phd102611s.gif)"
   ]
  },
  {
   "cell_type": "markdown",
   "metadata": {},
   "source": [
    "# Midterm things\n",
    "\n",
    "\n",
    "Regarding the iso-8859-1 encoding:\n",
    "\n",
    "https://stackoverflow.com/questions/18171739/unicodedecodeerror-when-reading-csv-file-in-pandas-with-python\n",
    "\n",
    "------\n",
    "\n",
    "Install `plotnine`\n",
    "```\n",
    "conda install -c conda-forge plotnine\n",
    "```\n",
    "Or\n",
    "```\n",
    "pip install plotnine\n",
    "```\n",
    "\n",
    "More about plotnine: https://github.com/has2k1/plotnine\n",
    "\n",
    "R ggplot: https://ggplot2.tidyverse.org/\n",
    "\n",
    "R ggplot cheatsheet: https://github.com/rstudio/cheatsheets/blob/master/data-visualization-2.1.pdf\n",
    "\n",
    "Pandas tutorial: https://pandas.pydata.org/pandas-docs/stable/tutorials.html\n",
    "\n",
    "Pandas cheatsheet: https://github.com/pandas-dev/pandas/blob/master/doc/cheatsheet/Pandas_Cheat_Sheet.pdf\n",
    "\n",
    "sklearn linear regression: http://scikit-learn.org/stable/modules/generated/sklearn.linear_model.LinearRegression.html\n",
    "\n",
    "\n",
    "***\n",
    "\n",
    "Markdown: \n",
    "\n",
    "https://jupyter-notebook.readthedocs.io/en/stable/examples/Notebook/Working%20With%20Markdown%20Cells.html\n",
    "\n",
    "https://daringfireball.net/projects/markdown/syntax\n",
    "\n",
    "https://www.ibm.com/support/knowledgecenter/SSQNUZ_current/com.ibm.icpdata.doc/dsx/markd-jupyter.html\n",
    "\n",
    "Markdown cheatsheet: https://guides.github.com/pdfs/markdown-cheatsheet-online.pdf (Caution: the second page is Github flavered markdown)\n"
   ]
  },
  {
   "cell_type": "markdown",
   "metadata": {},
   "source": [
    "# Project things\n",
    "\n",
    "Good examples of Jupyter notebook writings:\n",
    "\n",
    "http://jakevdp.github.io/\n",
    "\n",
    "https://github.com/jakevdp/PythonDataScienceHandbook\n",
    "\n",
    "https://github.com/donnemartin/data-science-ipython-notebooks/blob/master/kaggle/titanic.ipynb\n",
    "\n",
    "------\n",
    "\n",
    "Datasets, for example, but not limited to,\n",
    "\n",
    "https://github.com/awesomedata/awesome-public-datasets\n"
   ]
  },
  {
   "cell_type": "markdown",
   "metadata": {},
   "source": [
    "# Markdown Tutorial\n",
    "\n",
    "\n",
    "*   Red\n",
    "*   Green\n",
    "*   Blue\n",
    "\n",
    "\n",
    "+   Red\n",
    "+   Green\n",
    "+   Blue\n",
    "\n",
    "\n",
    "-   Red\n",
    "-   Green\n",
    "-   Blue"
   ]
  },
  {
   "cell_type": "markdown",
   "metadata": {},
   "source": [
    "1.  Bird\n",
    "2.  McHale\n",
    "3.  Parish\n",
    "\n",
    "\n",
    "1.  Bird\n",
    "1.  McHale\n",
    "1.  Parish"
   ]
  },
  {
   "cell_type": "markdown",
   "metadata": {},
   "source": [
    "*   This is a list item with two paragraphs.\n",
    "\n",
    "    This is the second paragraph in the list item. You're \n",
    "    only required to indent the first line. Lorem ipsum dolor\n",
    "    sit amet, consectetuer adipiscing elit.\n",
    "\n",
    "*   Another item in the same list.\n",
    "\n",
    "    > This is a blockquote\n",
    "    > inside a list item.\n",
    "    \n",
    "\n",
    "1.  This is a list item with two paragraphs. Lorem ipsum dolor\n",
    "    sit amet, consectetuer adipiscing elit. Aliquam hendrerit\n",
    "    mi posuere lectus.\n",
    "\n",
    "    Vestibulum enim wisi, viverra nec, fringilla in, laoreet\n",
    "    vitae, risus. Donec sit amet nisl. Aliquam semper ipsum\n",
    "    sit amet velit.\n",
    "\n",
    "2.  Suspendisse id sem consectetuer libero luctus adipiscing.\n"
   ]
  },
  {
   "cell_type": "markdown",
   "metadata": {},
   "source": [
    "This is a normal paragraph:\n",
    "\n",
    "    print(\"This is a code block.\")\n",
    "    \n",
    "    \n",
    "```\n",
    "print(\"This is also a code block.\")\n",
    "```\n",
    "\n",
    "This is inline `print(\"code block\")`!\n"
   ]
  },
  {
   "cell_type": "markdown",
   "metadata": {},
   "source": [
    "![Halloween](http://www.phdcomics.com/comics/archive/phd102611s.gif)\n",
    "\n",
    "\n",
    "https://github.com\n"
   ]
  },
  {
   "cell_type": "markdown",
   "metadata": {},
   "source": [
    "\n",
    "*****\n",
    "\n",
    "\n",
    "separation\n",
    "\n",
    "\n",
    "---------------------------------------\n",
    "\n",
    "\n"
   ]
  },
  {
   "cell_type": "markdown",
   "metadata": {},
   "source": [
    "This is an H1\n",
    "=============\n",
    "\n",
    "This is an H2\n",
    "-------------"
   ]
  },
  {
   "cell_type": "markdown",
   "metadata": {},
   "source": [
    "# This is an H1\n",
    "\n",
    "## This is an H2\n",
    "\n",
    "###### This is an H6\n"
   ]
  },
  {
   "cell_type": "markdown",
   "metadata": {},
   "source": [
    "> This is a blockquote with two paragraphs. Lorem ipsum dolor sit amet,\n",
    "> consectetuer adipiscing elit. Aliquam hendrerit mi posuere lectus.\n",
    "> Vestibulum enim wisi, viverra nec, fringilla in, laoreet vitae, risus.\n",
    "> \n",
    "> Donec sit amet nisl. Aliquam semper ipsum sit amet velit. Suspendisse\n",
    "> id sem consectetuer libero luctus adipiscing.\n",
    "\n",
    "> This is the first level of quoting.\n",
    ">\n",
    "> > This is nested blockquote.\n",
    ">\n",
    "> Back to the first level.\n",
    "\n",
    "> ## This is a header.\n",
    "> \n",
    "> 1.   This is the first list item.\n",
    "> 2.   This is the second list item.\n",
    "> \n",
    "> Here's some example code:\n",
    "> \n",
    ">     return shell_exec(\"echo $input | $markdown_script\");"
   ]
  },
  {
   "cell_type": "markdown",
   "metadata": {},
   "source": [
    "This is [an example](http://example.com/ \"Title\") inline link.\n",
    "\n",
    "[This link](http://example.net/) has no title attribute.\n",
    "\n"
   ]
  },
  {
   "cell_type": "markdown",
   "metadata": {},
   "source": [
    "*single asterisks*\n",
    "\n",
    "_single underscores_\n",
    "\n",
    "**double asterisks**\n",
    "\n",
    "__double underscores__\n",
    "\n",
    "\n",
    "\n",
    "un*frigging*believable\n",
    "\n",
    "un**frigging**believable\n",
    "\n"
   ]
  },
  {
   "cell_type": "markdown",
   "metadata": {},
   "source": [
    "Name    |   Lunch order    | Spicy      | Owes     \n",
    "------- | ---------------- | ---------- | ---------\n",
    "Joan    | saag paneer      | medium     | \\$11\n",
    "Sally   | vindaloo         | mild       | \\$14\n",
    "Erin    | lamb madras      | HOT        | \\$5\n",
    "\n"
   ]
  },
  {
   "cell_type": "markdown",
   "metadata": {},
   "source": [
    "You can even put html syntax here! <br>\n",
    "I just use `<br>` to break lines.\n",
    "\n",
    "<font color=\"red\">Put some red texts</font> <br>\n",
    "<font size=\"3\" color=\"red\">This is some text!</font> <br>\n",
    "<font size=\"2\" color=\"blue\">This is some text!</font> <br>\n",
    "<font face=\"verdana\" color=\"green\">This is some text!</font> <br>\n",
    "\n",
    "<center>This text will be center-aligned.</center>\n",
    "\n",
    "\n",
    "<div class=\"alert alert-block alert-info\">\n",
    "<b>Tip:</b> Or even boxes\n",
    "</div>\n",
    "\n",
    "<div class=\"alert alert-block alert-warning\">\n",
    "<b>Example:</b> Like this\n",
    "</div>"
   ]
  },
  {
   "cell_type": "code",
   "execution_count": null,
   "metadata": {},
   "outputs": [],
   "source": []
  },
  {
   "cell_type": "markdown",
   "metadata": {},
   "source": [
    "I can write $\\LaTeX$ equations inline $x^2 + y^2 = z^2$\n",
    "\n",
    "Or big equations like this\n",
    "$$\n",
    "\\int x^2 dx = \\frac13 x^3 + C\n",
    "$$\n",
    "\n",
    "$$\n",
    "\\begin{pmatrix}\n",
    "\\cos \\theta & - \\sin \\theta \\\\\n",
    "\\sin \\theta & \\cos \\theta\n",
    "\\end{pmatrix}\n",
    "\\begin{pmatrix}\n",
    "1 \\\\\n",
    "0\n",
    "\\end{pmatrix}\n",
    "=\n",
    "\\begin{pmatrix}\n",
    "\\cos \\theta \\\\\n",
    "\\sin \\theta\n",
    "\\end{pmatrix}\n",
    "$$\n",
    "\n",
    "\\begin{align}\n",
    " f(x) &= (x+a)(x+b) \\\\\n",
    "      &= x^2 + (a+b)x + ab\n",
    "\\end{align}\n",
    "\n",
    "$\\begin{aligned}\n",
    " f(x) &= (x+a)(x+b) \\\\\n",
    "      &= x^2 + (a+b)x + ab\n",
    "\\end{aligned}$\n",
    "\n",
    "https://jupyter-notebook.readthedocs.io/en/stable/examples/Notebook/Typesetting%20Equations.html"
   ]
  },
  {
   "cell_type": "markdown",
   "metadata": {},
   "source": [
    "***"
   ]
  },
  {
   "cell_type": "markdown",
   "metadata": {},
   "source": [
    "# Last year instruction\n",
    "\n",
    "**STA-141b Final Project instructions**\n",
    "\n",
    "**Description:** You should work in a group of no more than 4 people on a final data science project. The purpose of the project is to provide you with real data science experience, including posing questions, finding data, exploring and visualizing the data, analyzing the data, and summarizing your findings. As a group you should begin with a certain curiosity, for example, in my lecture 'What happened in Ohio?' I looked at the presidential election in OH. Then we processed the data, visualized it, and asked specific questions.\n",
    "\n",
    "**Data Sources:** Based on what you have learned you can extract data from pretty much anywhere, but for inspiration you can look at the following links:\n",
    "\n",
    "- [This big list of datasets](https://github.com/awesomedata/awesome-public-datasets)\n",
    "\n",
    "- Data.gov\n",
    "\n",
    "- The internet\n",
    "\n",
    "**Grading criteria**\n",
    "\n",
    "- Code: we will grade the code according to the rubric\n",
    "\n",
    "- Exploratory data analysis: Did you explore the data before moving on with your analysis? Looking at the data can mean summary statistics, dealing with missingness, visualization, etc.\n",
    "\n",
    "- Question and summaries: Are there clear research questions that you asked, and did you address these in an orderly fashion? Do you make well justified conclusions?\n",
    "\n",
    "- Statistics: is your use of statistics and machine learning valid? Did you choose appropriate methods based on your questions, the data, and your assumptions?\n",
    "\n",
    "- Visualization: do your visualizations follow the principles of graphical excellence? Do your visualizations support your conclusions?\n",
    "\n",
    "- Data extraction: does your project display novel ways of extracting data (via web scrapping, etc.) and do you use multiple data sources?\n",
    "\n",
    "- Data munging and storage: do you process the data in an clear, efficient, and organized way? Do you join multiple data sources appropriately? Do you store your processed data in an efficient way, using databases or well thought out data structures?\n",
    "\n",
    "- Organization: Is your github repo organized? Are your notebooks clear, with a natural flow, and easy to follow presentation? Is your writing clear and edited?\n",
    "\n",
    "We will grade each of these according to a scale, with the highest grades going to only the best examples of these categories. Then we will drop the lowest 2 of these scores, so that we will promote excellence without necessarily requiring that the you hit all of these bases. We will also add grades to smaller groups, and penalize larger groups. You should roughly have material proportional to the number of people in your group."
   ]
  },
  {
   "cell_type": "code",
   "execution_count": null,
   "metadata": {},
   "outputs": [],
   "source": []
  }
 ],
 "metadata": {
  "kernelspec": {
   "display_name": "Python 3",
   "language": "python",
   "name": "python3"
  },
  "language_info": {
   "codemirror_mode": {
    "name": "ipython",
    "version": 3
   },
   "file_extension": ".py",
   "mimetype": "text/x-python",
   "name": "python",
   "nbconvert_exporter": "python",
   "pygments_lexer": "ipython3",
   "version": "3.6.6"
  }
 },
 "nbformat": 4,
 "nbformat_minor": 1
}
